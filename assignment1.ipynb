{
 "cells": [
  {
   "cell_type": "markdown",
   "id": "a9548378-6cd2-49d1-9b6a-a45b154a3c52",
   "metadata": {},
   "source": [
    "Q1.create one variable containing following type of data:"
   ]
  },
  {
   "cell_type": "code",
   "execution_count": 18,
   "id": "2defb424-1687-4927-abf1-55f71e0378b0",
   "metadata": {},
   "outputs": [],
   "source": [
    "v1=\"sanjay\",2000,44.5,(1,2,3,4)"
   ]
  },
  {
   "cell_type": "markdown",
   "id": "f3076a78-67f9-4f9e-a465-a4ddf5e5fefa",
   "metadata": {},
   "source": [
    "Q2. Given are some following variables containing data:\n",
    "(i) var1 = ‘ ‘\n",
    "(ii) var2 = ‘[ DS , ML , Python]’\n",
    "(iii) var3 = [ ‘DS’ , ’ML’ , ‘Python’ ]\n",
    "(iv) var4 = 1.\n",
    "What will be the data type of the above given variable."
   ]
  },
  {
   "cell_type": "code",
   "execution_count": null,
   "id": "f218af80-5a6a-4e1c-b670-7104e36345fc",
   "metadata": {},
   "outputs": [],
   "source": [
    "var 1 is empty\n",
    "var 2 is list\n",
    "var 3 is string\n",
    "var 4 is int"
   ]
  },
  {
   "cell_type": "code",
   "execution_count": null,
   "id": "ca122814-b874-4e2d-8885-5ab311d935cc",
   "metadata": {},
   "outputs": [],
   "source": [
    "Q3.Q3. Explain the use of the following operators using an example:\n",
    "(i) /\n",
    "(ii) %\n",
    "(iii) //\n",
    "(iv) **"
   ]
  },
  {
   "cell_type": "code",
   "execution_count": 20,
   "id": "f2f552f9-ffed-4a7c-8a01-5988884d52ad",
   "metadata": {},
   "outputs": [
    {
     "data": {
      "text/plain": [
       "2.0"
      ]
     },
     "execution_count": 20,
     "metadata": {},
     "output_type": "execute_result"
    }
   ],
   "source": [
    "10/5"
   ]
  },
  {
   "cell_type": "code",
   "execution_count": 21,
   "id": "faef6bbe-d652-4f6a-9a89-4d8bce1851c6",
   "metadata": {},
   "outputs": [
    {
     "data": {
      "text/plain": [
       "1"
      ]
     },
     "execution_count": 21,
     "metadata": {},
     "output_type": "execute_result"
    }
   ],
   "source": [
    "11%2"
   ]
  },
  {
   "cell_type": "code",
   "execution_count": 22,
   "id": "9f15f104-2e13-4d71-8c21-4dc50aded8fb",
   "metadata": {},
   "outputs": [
    {
     "data": {
      "text/plain": [
       "7"
      ]
     },
     "execution_count": 22,
     "metadata": {},
     "output_type": "execute_result"
    }
   ],
   "source": [
    "147//20"
   ]
  },
  {
   "cell_type": "code",
   "execution_count": 23,
   "id": "1ab7c753-d6ed-4b96-a5c3-3f45dc1b94d4",
   "metadata": {
    "jp-MarkdownHeadingCollapsed": true,
    "tags": []
   },
   "outputs": [
    {
     "data": {
      "text/plain": [
       "8"
      ]
     },
     "execution_count": 23,
     "metadata": {},
     "output_type": "execute_result"
    }
   ],
   "source": [
    "2**3"
   ]
  },
  {
   "cell_type": "markdown",
   "id": "c516a552-bc42-455c-974b-437ecb7d891b",
   "metadata": {},
   "source": [
    "Q4. Create a list of length 10 of your choice containing multiple types of data. Using for loop print the\n",
    "element and its data type."
   ]
  },
  {
   "cell_type": "code",
   "execution_count": 29,
   "id": "cebf7b99-cbe6-42b5-be93-43dbbacb51bf",
   "metadata": {},
   "outputs": [],
   "source": [
    "l1=[11,33.24,\"sanjay\",\"true\",\"vijay\",\"pwskills\",(1,2,\"a\"),33,22,11,]"
   ]
  },
  {
   "cell_type": "code",
   "execution_count": 30,
   "id": "a4a77420-a191-497c-bbc9-96cd627a59c2",
   "metadata": {},
   "outputs": [
    {
     "data": {
      "text/plain": [
       "10"
      ]
     },
     "execution_count": 30,
     "metadata": {},
     "output_type": "execute_result"
    }
   ],
   "source": [
    "len(l1)"
   ]
  },
  {
   "cell_type": "code",
   "execution_count": 40,
   "id": "790c2858-1016-439f-b8a6-75fe3e730138",
   "metadata": {},
   "outputs": [
    {
     "name": "stdout",
     "output_type": "stream",
     "text": [
      "<class 'int'> 11\n",
      "<class 'float'> 33.24\n",
      "<class 'str'> sanjay\n",
      "<class 'str'> true\n",
      "<class 'str'> vijay\n",
      "<class 'str'> pwskills\n",
      "<class 'tuple'> (1, 2, 'a')\n",
      "<class 'int'> 33\n",
      "<class 'int'> 22\n",
      "<class 'int'> 11\n"
     ]
    }
   ],
   "source": [
    "for x in l1:\n",
    "    print (type(x),x)\n"
   ]
  },
  {
   "cell_type": "markdown",
   "id": "27ede13a-b546-4c7b-931f-234e96a108a6",
   "metadata": {},
   "source": [
    "Q5. Using a while loop, verify if the number A is purely divisible by number B and if so then how many\n",
    "times it can be divisible."
   ]
  },
  {
   "cell_type": "code",
   "execution_count": 1,
   "id": "8e904a38-6077-4f36-bfde-10a740fa73e1",
   "metadata": {},
   "outputs": [],
   "source": [
    "a=10\n",
    "b=2\n",
    "while(a/b==0):\n",
    "    print(\"a is purely divisible by b\")"
   ]
  },
  {
   "cell_type": "markdown",
   "id": "a1692120-9ddd-4d30-b8b6-e66db2ab6575",
   "metadata": {},
   "source": [
    "Q6. Create a list containing 25 int type data. Using for loop and if-else condition print if the element is\n",
    "divisible by 3 or not."
   ]
  },
  {
   "cell_type": "code",
   "execution_count": 15,
   "id": "e8078bc9-ba5c-45bc-8d6e-31d8b153d3ba",
   "metadata": {},
   "outputs": [
    {
     "name": "stdout",
     "output_type": "stream",
     "text": [
      "1  is not divisible by 3\n",
      "2  is not divisible by 3\n",
      "3  is divisible by 3\n",
      "4  is not divisible by 3\n",
      "5  is not divisible by 3\n",
      "6  is divisible by 3\n",
      "7  is not divisible by 3\n",
      "8  is not divisible by 3\n",
      "9  is divisible by 3\n",
      "10  is not divisible by 3\n",
      "11  is not divisible by 3\n",
      "12  is divisible by 3\n",
      "13  is not divisible by 3\n",
      "14  is not divisible by 3\n",
      "15  is divisible by 3\n",
      "16  is not divisible by 3\n",
      "17  is not divisible by 3\n",
      "18  is divisible by 3\n",
      "19  is not divisible by 3\n",
      "20  is not divisible by 3\n",
      "21  is divisible by 3\n",
      "22  is not divisible by 3\n",
      "23  is not divisible by 3\n",
      "24  is divisible by 3\n",
      "25  is not divisible by 3\n"
     ]
    }
   ],
   "source": [
    "l1=[1,2,3,4,5,6,7,8,9,10,11,12,13,14,15,16,17,18,19,20,21,22,23,24,25]\n",
    "for x in l1:\n",
    "    if x%3==0:\n",
    "        print(x,\" is divisible by 3\")\n",
    "    else:\n",
    "        print(x,\" is not divisible by 3\")"
   ]
  },
  {
   "cell_type": "markdown",
   "id": "352b8d39-f040-4c53-a569-f2e3ba6684fd",
   "metadata": {},
   "source": [
    "Q7. What do you understand about mutable and immutable data types? Give examples for both showing\n",
    "this property.\n",
    "ans:\n",
    "    mutable means given data is not chengable.\n",
    "    immutable means we can change the given data."
   ]
  },
  {
   "cell_type": "code",
   "execution_count": 7,
   "id": "75b5aac9-28e2-4501-9f19-cd5fef19adee",
   "metadata": {},
   "outputs": [],
   "source": [
    "s=\"sanjay\""
   ]
  },
  {
   "cell_type": "code",
   "execution_count": 9,
   "id": "aaa4dd8c-c8fb-41bf-95f6-9307937e73c3",
   "metadata": {},
   "outputs": [
    {
     "ename": "TypeError",
     "evalue": "'str' object does not support item assignment",
     "output_type": "error",
     "traceback": [
      "\u001b[0;31m---------------------------------------------------------------------------\u001b[0m",
      "\u001b[0;31mTypeError\u001b[0m                                 Traceback (most recent call last)",
      "Cell \u001b[0;32mIn[9], line 1\u001b[0m\n\u001b[0;32m----> 1\u001b[0m \u001b[43ms\u001b[49m\u001b[43m[\u001b[49m\u001b[38;5;241;43m2\u001b[39;49m\u001b[43m]\u001b[49m\u001b[38;5;241m=\u001b[39m\u001b[38;5;124m'\u001b[39m\u001b[38;5;124mN\u001b[39m\u001b[38;5;124m'\u001b[39m\n",
      "\u001b[0;31mTypeError\u001b[0m: 'str' object does not support item assignment"
     ]
    }
   ],
   "source": [
    "s[2]='N'"
   ]
  },
  {
   "cell_type": "code",
   "execution_count": 10,
   "id": "2ffbfed3-f356-45fd-a981-5ff8d8269962",
   "metadata": {},
   "outputs": [],
   "source": [
    "#string is immutable"
   ]
  },
  {
   "cell_type": "code",
   "execution_count": 11,
   "id": "a606665c-a75c-451b-b929-298124241959",
   "metadata": {},
   "outputs": [],
   "source": [
    "l1=[1,2,3,4,\"pwskills\",33.33]"
   ]
  },
  {
   "cell_type": "code",
   "execution_count": 13,
   "id": "ef275e98-c076-4f0b-ac08-216ed817b037",
   "metadata": {},
   "outputs": [],
   "source": [
    "l1[3]=400"
   ]
  },
  {
   "cell_type": "code",
   "execution_count": 14,
   "id": "1b2ff398-c1cf-40a1-a0d4-eac379f77067",
   "metadata": {},
   "outputs": [
    {
     "data": {
      "text/plain": [
       "[1, 2, 3, 400, 'pwskills', 33.33]"
      ]
     },
     "execution_count": 14,
     "metadata": {},
     "output_type": "execute_result"
    }
   ],
   "source": [
    "l1"
   ]
  },
  {
   "cell_type": "code",
   "execution_count": null,
   "id": "90d68eed-d552-4ea3-8492-00dad519ad65",
   "metadata": {},
   "outputs": [],
   "source": [
    "#list support mutability"
   ]
  }
 ],
 "metadata": {
  "kernelspec": {
   "display_name": "Python 3 (ipykernel)",
   "language": "python",
   "name": "python3"
  },
  "language_info": {
   "codemirror_mode": {
    "name": "ipython",
    "version": 3
   },
   "file_extension": ".py",
   "mimetype": "text/x-python",
   "name": "python",
   "nbconvert_exporter": "python",
   "pygments_lexer": "ipython3",
   "version": "3.10.8"
  }
 },
 "nbformat": 4,
 "nbformat_minor": 5
}
